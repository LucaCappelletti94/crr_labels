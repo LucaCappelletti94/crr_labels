{
 "cells": [
  {
   "cell_type": "code",
   "execution_count": 23,
   "metadata": {},
   "outputs": [
    {
     "name": "stderr",
     "output_type": "stream",
     "text": [
      "/usr/local/anaconda3/lib/python3.7/site-packages/IPython/core/interactiveshell.py:3063: DtypeWarning: Columns (4) have mixed types.Specify dtype option on import or set low_memory=False.\n",
      "  interactivity=interactivity, compiler=compiler, result=result)\n"
     ]
    }
   ],
   "source": [
    "import pandas as pd\n",
    "nrows= 10000\n",
    "hg38 = pd.read_csv(\n",
    "    \"fantom_data/hg38_fair+new_CAGE_peaks_phase1and2_tpm_ann.osc.txt.gz\",\n",
    "    comment=\"#\",\n",
    "    sep=\"\\t\",\n",
    "    #nrows=nrows\n",
    ").drop(index=[0, 1])\n",
    "hg19 = pd.read_csv(\n",
    "    \"fantom_data/hg19.cage_peak_phase1and2combined_tpm_ann.osc.txt.gz\",\n",
    "    comment=\"#\",\n",
    "    sep=\"\\t\",\n",
    "    #nrows=nrows\n",
    ").drop(index=[0, 1])"
   ]
  },
  {
   "cell_type": "code",
   "execution_count": 32,
   "metadata": {},
   "outputs": [
    {
     "data": {
      "text/plain": [
       "('hg19::chr1:564571..564600,+;hg_1.1',\n",
       " 'hg38::chrY:56827678..56827684,+;hg_232048.1')"
      ]
     },
     "execution_count": 32,
     "metadata": {},
     "output_type": "execute_result"
    }
   ],
   "source": [
    "hg38[[\"00Annotation\"]].iloc[0].values[0], hg38[[\"00Annotation\"]].iloc[-1].values[0]"
   ]
  },
  {
   "cell_type": "code",
   "execution_count": 28,
   "metadata": {},
   "outputs": [
    {
     "data": {
      "text/plain": [
       "array(['chr10:100013403..100013414,-'], dtype=object)"
      ]
     },
     "execution_count": 28,
     "metadata": {},
     "output_type": "execute_result"
    }
   ],
   "source": [
    "hg19[[\"00Annotation\"]].loc[2].values"
   ]
  },
  {
   "cell_type": "code",
   "execution_count": null,
   "metadata": {},
   "outputs": [],
   "source": []
  }
 ],
 "metadata": {
  "kernelspec": {
   "display_name": "Python 3",
   "language": "python",
   "name": "python3"
  },
  "language_info": {
   "codemirror_mode": {
    "name": "ipython",
    "version": 3
   },
   "file_extension": ".py",
   "mimetype": "text/x-python",
   "name": "python",
   "nbconvert_exporter": "python",
   "pygments_lexer": "ipython3",
   "version": "3.7.6"
  }
 },
 "nbformat": 4,
 "nbformat_minor": 4
}
