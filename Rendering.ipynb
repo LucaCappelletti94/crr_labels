{
 "cells": [
  {
   "cell_type": "code",
   "execution_count": 1,
   "metadata": {},
   "outputs": [],
   "source": [
    "from crr_labels import fantom, roadmap, roadmap_available_cell_lines, fantom_available_cell_lines\n",
    "import os\n",
    "from tqdm.auto import tqdm\n",
    "import pandas as pd\n",
    "from tabulate import tabulate"
   ]
  },
  {
   "cell_type": "code",
   "execution_count": 2,
   "metadata": {},
   "outputs": [],
   "source": [
    "common_cell_lines = [\n",
    "    \"GM12878\", \"HelaS3\", \"HepG2\", \"K562\", \"A549\", \"H1\", \"H9\"\n",
    "]\n",
    "fantom_cell_lines = [\n",
    "    \"MCF7\", \"HEK293\", \"Caco2\", \"HL60\", \"PC3\", \"JURKAT\"\n",
    "]\n",
    "roadmap_cell_lines = [\n",
    "    \"DND41\", \"HUES48\", \"HUES6\", \"HUES64\", \"IMR90\"\n",
    "]"
   ]
  },
  {
   "cell_type": "code",
   "execution_count": 3,
   "metadata": {},
   "outputs": [],
   "source": [
    "windows = (200, 1000)\n",
    "states = (15, 18)\n",
    "centers = (\"peak\", \"center\")"
   ]
  },
  {
   "cell_type": "code",
   "execution_count": 4,
   "metadata": {},
   "outputs": [],
   "source": [
    "url_pattern = \"`Download <https://raw.githubusercontent.com/LucaCappelletti94/crr_labels/master/{url}>`__\""
   ]
  },
  {
   "cell_type": "code",
   "execution_count": 5,
   "metadata": {},
   "outputs": [
    {
     "data": {
      "application/vnd.jupyter.widget-view+json": {
       "model_id": "3d4e9f9cfec74d7d98998ace15f459a3",
       "version_major": 2,
       "version_minor": 0
      },
      "text/plain": [
       "HBox(children=(IntProgress(value=0, description='Window', layout=Layout(flex='2'), max=2, style=ProgressStyle(…"
      ]
     },
     "metadata": {},
     "output_type": "display_data"
    },
    {
     "data": {
      "application/vnd.jupyter.widget-view+json": {
       "model_id": "",
       "version_major": 2,
       "version_minor": 0
      },
      "text/plain": [
       "HBox(children=(IntProgress(value=0, description='Fantom', layout=Layout(flex='2'), max=2, style=ProgressStyle(…"
      ]
     },
     "metadata": {},
     "output_type": "display_data"
    },
    {
     "name": "stderr",
     "output_type": "stream",
     "text": [
      "/usr/local/anaconda3/lib/python3.7/site-packages/pandas/core/generic.py:5208: SettingWithCopyWarning: \n",
      "A value is trying to be set on a copy of a slice from a DataFrame.\n",
      "Try using .loc[row_indexer,col_indexer] = value instead\n",
      "\n",
      "See the caveats in the documentation: http://pandas.pydata.org/pandas-docs/stable/user_guide/indexing.html#returning-a-view-versus-a-copy\n",
      "  self[name] = value\n"
     ]
    },
    {
     "data": {
      "application/vnd.jupyter.widget-view+json": {
       "model_id": "",
       "version_major": 2,
       "version_minor": 0
      },
      "text/plain": [
       "HBox(children=(IntProgress(value=0, description='Roadmap', layout=Layout(flex='2'), max=2, style=ProgressStyle…"
      ]
     },
     "metadata": {},
     "output_type": "display_data"
    },
    {
     "data": {
      "application/vnd.jupyter.widget-view+json": {
       "model_id": "1024f1c4e437492d85cd0584fb44b2cb",
       "version_major": 2,
       "version_minor": 0
      },
      "text/plain": [
       "HBox(children=(IntProgress(value=0, description='Downloading to roadmap_data/15/H1.bed.gz', layout=Layout(flex…"
      ]
     },
     "metadata": {},
     "output_type": "display_data"
    },
    {
     "name": "stdout",
     "output_type": "stream",
     "text": [
      "\n"
     ]
    },
    {
     "name": "stderr",
     "output_type": "stream",
     "text": [
      "/usr/local/anaconda3/lib/python3.7/site-packages/IPython/core/interactiveshell.py:3058: PerformanceWarning: indexing past lexsort depth may impact performance.\n",
      "  interactivity=interactivity, compiler=compiler, result=result)\n",
      "/usr/local/anaconda3/lib/python3.7/site-packages/pandas/core/indexing.py:576: SettingWithCopyWarning: \n",
      "A value is trying to be set on a copy of a slice from a DataFrame.\n",
      "Try using .loc[row_indexer,col_indexer] = value instead\n",
      "\n",
      "See the caveats in the documentation: http://pandas.pydata.org/pandas-docs/stable/user_guide/indexing.html#returning-a-view-versus-a-copy\n",
      "  self.obj[item_labels[indexer[info_axis]]] = value\n"
     ]
    },
    {
     "data": {
      "application/vnd.jupyter.widget-view+json": {
       "model_id": "034108072bb34f89af09fad787bd53c9",
       "version_major": 2,
       "version_minor": 0
      },
      "text/plain": [
       "HBox(children=(IntProgress(value=0, description='Downloading to roadmap_data/15/H9.bed.gz', layout=Layout(flex…"
      ]
     },
     "metadata": {},
     "output_type": "display_data"
    },
    {
     "name": "stdout",
     "output_type": "stream",
     "text": [
      "\n"
     ]
    },
    {
     "data": {
      "application/vnd.jupyter.widget-view+json": {
       "model_id": "410a05d52d0f4ac79bdd95c9c27b939f",
       "version_major": 2,
       "version_minor": 0
      },
      "text/plain": [
       "HBox(children=(IntProgress(value=0, description='Downloading to roadmap_data/15/HUES48.bed.gz', layout=Layout(…"
      ]
     },
     "metadata": {},
     "output_type": "display_data"
    },
    {
     "name": "stdout",
     "output_type": "stream",
     "text": [
      "\n"
     ]
    },
    {
     "data": {
      "application/vnd.jupyter.widget-view+json": {
       "model_id": "cf8e1bd1bc69473d86be2662afda9060",
       "version_major": 2,
       "version_minor": 0
      },
      "text/plain": [
       "HBox(children=(IntProgress(value=0, description='Downloading to roadmap_data/15/HUES6.bed.gz', layout=Layout(f…"
      ]
     },
     "metadata": {},
     "output_type": "display_data"
    },
    {
     "name": "stdout",
     "output_type": "stream",
     "text": [
      "\n"
     ]
    },
    {
     "data": {
      "application/vnd.jupyter.widget-view+json": {
       "model_id": "0deead52a96d41cdb3a240940dd508c6",
       "version_major": 2,
       "version_minor": 0
      },
      "text/plain": [
       "HBox(children=(IntProgress(value=0, description='Downloading to roadmap_data/15/HUES64.bed.gz', layout=Layout(…"
      ]
     },
     "metadata": {},
     "output_type": "display_data"
    },
    {
     "name": "stdout",
     "output_type": "stream",
     "text": [
      "\n"
     ]
    },
    {
     "data": {
      "application/vnd.jupyter.widget-view+json": {
       "model_id": "6b3e5fdb2a884af993f070c2936a174d",
       "version_major": 2,
       "version_minor": 0
      },
      "text/plain": [
       "HBox(children=(IntProgress(value=0, description='Downloading to roadmap_data/15/IMR90.bed.gz', layout=Layout(f…"
      ]
     },
     "metadata": {},
     "output_type": "display_data"
    },
    {
     "name": "stdout",
     "output_type": "stream",
     "text": [
      "\n"
     ]
    },
    {
     "data": {
      "application/vnd.jupyter.widget-view+json": {
       "model_id": "c1f84b869415422fb8dcc0cb9b133de1",
       "version_major": 2,
       "version_minor": 0
      },
      "text/plain": [
       "HBox(children=(IntProgress(value=0, description='Downloading to roadmap_data/15/A549.bed.gz', layout=Layout(fl…"
      ]
     },
     "metadata": {},
     "output_type": "display_data"
    },
    {
     "name": "stdout",
     "output_type": "stream",
     "text": [
      "\n"
     ]
    },
    {
     "data": {
      "application/vnd.jupyter.widget-view+json": {
       "model_id": "3a146c6b33e74beea25ca48520ee34ef",
       "version_major": 2,
       "version_minor": 0
      },
      "text/plain": [
       "HBox(children=(IntProgress(value=0, description='Downloading to roadmap_data/15/DND41.bed.gz', layout=Layout(f…"
      ]
     },
     "metadata": {},
     "output_type": "display_data"
    },
    {
     "name": "stdout",
     "output_type": "stream",
     "text": [
      "\n"
     ]
    },
    {
     "data": {
      "application/vnd.jupyter.widget-view+json": {
       "model_id": "0f8500feba1141069be4526d37ff1a11",
       "version_major": 2,
       "version_minor": 0
      },
      "text/plain": [
       "HBox(children=(IntProgress(value=0, description='Downloading to roadmap_data/15/HEPG2.bed.gz', layout=Layout(f…"
      ]
     },
     "metadata": {},
     "output_type": "display_data"
    },
    {
     "name": "stdout",
     "output_type": "stream",
     "text": [
      "\n"
     ]
    },
    {
     "data": {
      "application/vnd.jupyter.widget-view+json": {
       "model_id": "af17e39183344ce2879312f7e7f44f91",
       "version_major": 2,
       "version_minor": 0
      },
      "text/plain": [
       "HBox(children=(IntProgress(value=0, description='Downloading to roadmap_data/15/K562.bed.gz', layout=Layout(fl…"
      ]
     },
     "metadata": {},
     "output_type": "display_data"
    },
    {
     "name": "stdout",
     "output_type": "stream",
     "text": [
      "\n"
     ]
    },
    {
     "data": {
      "application/vnd.jupyter.widget-view+json": {
       "model_id": "af0364a6cf8f4c4daf4ee7dfefc261b9",
       "version_major": 2,
       "version_minor": 0
      },
      "text/plain": [
       "HBox(children=(IntProgress(value=0, description='Downloading to roadmap_data/18/H1.bed.gz', layout=Layout(flex…"
      ]
     },
     "metadata": {},
     "output_type": "display_data"
    },
    {
     "name": "stdout",
     "output_type": "stream",
     "text": [
      "\n"
     ]
    },
    {
     "data": {
      "application/vnd.jupyter.widget-view+json": {
       "model_id": "3027d51bec9b49e8887ba1428b92fb67",
       "version_major": 2,
       "version_minor": 0
      },
      "text/plain": [
       "HBox(children=(IntProgress(value=0, description='Downloading to roadmap_data/18/H9.bed.gz', layout=Layout(flex…"
      ]
     },
     "metadata": {},
     "output_type": "display_data"
    },
    {
     "name": "stdout",
     "output_type": "stream",
     "text": [
      "\n"
     ]
    },
    {
     "data": {
      "application/vnd.jupyter.widget-view+json": {
       "model_id": "3c0fd029ce574db08194713e265a82be",
       "version_major": 2,
       "version_minor": 0
      },
      "text/plain": [
       "HBox(children=(IntProgress(value=0, description='Downloading to roadmap_data/18/HUES48.bed.gz', layout=Layout(…"
      ]
     },
     "metadata": {},
     "output_type": "display_data"
    },
    {
     "name": "stdout",
     "output_type": "stream",
     "text": [
      "\n"
     ]
    },
    {
     "data": {
      "application/vnd.jupyter.widget-view+json": {
       "model_id": "71b7a8a3fdc1426ab104e3fad5cb331e",
       "version_major": 2,
       "version_minor": 0
      },
      "text/plain": [
       "HBox(children=(IntProgress(value=0, description='Downloading to roadmap_data/18/HUES6.bed.gz', layout=Layout(f…"
      ]
     },
     "metadata": {},
     "output_type": "display_data"
    },
    {
     "name": "stdout",
     "output_type": "stream",
     "text": [
      "\n"
     ]
    },
    {
     "data": {
      "application/vnd.jupyter.widget-view+json": {
       "model_id": "f522c58fd81d432faeb758105ebe8668",
       "version_major": 2,
       "version_minor": 0
      },
      "text/plain": [
       "HBox(children=(IntProgress(value=0, description='Downloading to roadmap_data/18/HUES64.bed.gz', layout=Layout(…"
      ]
     },
     "metadata": {},
     "output_type": "display_data"
    },
    {
     "name": "stdout",
     "output_type": "stream",
     "text": [
      "\n"
     ]
    },
    {
     "data": {
      "application/vnd.jupyter.widget-view+json": {
       "model_id": "a55a6949efb24ced93e38622effd054b",
       "version_major": 2,
       "version_minor": 0
      },
      "text/plain": [
       "HBox(children=(IntProgress(value=0, description='Downloading to roadmap_data/18/IMR90.bed.gz', layout=Layout(f…"
      ]
     },
     "metadata": {},
     "output_type": "display_data"
    },
    {
     "name": "stdout",
     "output_type": "stream",
     "text": [
      "\n"
     ]
    },
    {
     "data": {
      "application/vnd.jupyter.widget-view+json": {
       "model_id": "5f359a0518eb47bfb98e56bf8a1b223b",
       "version_major": 2,
       "version_minor": 0
      },
      "text/plain": [
       "HBox(children=(IntProgress(value=0, description='Downloading to roadmap_data/18/A549.bed.gz', layout=Layout(fl…"
      ]
     },
     "metadata": {},
     "output_type": "display_data"
    },
    {
     "name": "stdout",
     "output_type": "stream",
     "text": [
      "\n"
     ]
    },
    {
     "data": {
      "application/vnd.jupyter.widget-view+json": {
       "model_id": "1168cefecafd428aa97a8d410e688cb1",
       "version_major": 2,
       "version_minor": 0
      },
      "text/plain": [
       "HBox(children=(IntProgress(value=0, description='Downloading to roadmap_data/18/DND41.bed.gz', layout=Layout(f…"
      ]
     },
     "metadata": {},
     "output_type": "display_data"
    },
    {
     "name": "stdout",
     "output_type": "stream",
     "text": [
      "\n"
     ]
    },
    {
     "data": {
      "application/vnd.jupyter.widget-view+json": {
       "model_id": "1a9f31c3e0a748148b4a28fb5cc21ff1",
       "version_major": 2,
       "version_minor": 0
      },
      "text/plain": [
       "HBox(children=(IntProgress(value=0, description='Downloading to roadmap_data/18/HEPG2.bed.gz', layout=Layout(f…"
      ]
     },
     "metadata": {},
     "output_type": "display_data"
    },
    {
     "name": "stdout",
     "output_type": "stream",
     "text": [
      "\n"
     ]
    },
    {
     "data": {
      "application/vnd.jupyter.widget-view+json": {
       "model_id": "8d7cf63e67bd4bcc997fcfdb8ee55b31",
       "version_major": 2,
       "version_minor": 0
      },
      "text/plain": [
       "HBox(children=(IntProgress(value=0, description='Downloading to roadmap_data/18/K562.bed.gz', layout=Layout(fl…"
      ]
     },
     "metadata": {},
     "output_type": "display_data"
    },
    {
     "name": "stdout",
     "output_type": "stream",
     "text": [
      "\n"
     ]
    },
    {
     "data": {
      "application/vnd.jupyter.widget-view+json": {
       "model_id": "",
       "version_major": 2,
       "version_minor": 0
      },
      "text/plain": [
       "HBox(children=(IntProgress(value=0, description='Fantom', layout=Layout(flex='2'), max=2, style=ProgressStyle(…"
      ]
     },
     "metadata": {},
     "output_type": "display_data"
    },
    {
     "data": {
      "application/vnd.jupyter.widget-view+json": {
       "model_id": "",
       "version_major": 2,
       "version_minor": 0
      },
      "text/plain": [
       "HBox(children=(IntProgress(value=0, description='Roadmap', layout=Layout(flex='2'), max=2, style=ProgressStyle…"
      ]
     },
     "metadata": {},
     "output_type": "display_data"
    },
    {
     "name": "stdout",
     "output_type": "stream",
     "text": [
      "\n"
     ]
    }
   ],
   "source": [
    "fantom_preprocessed = []\n",
    "roadmap_preprocessed = []\n",
    "for window in tqdm(windows,  desc=\"Window\", dynamic_ncols=True):\n",
    "    for center_enhancers in tqdm(centers, desc=\"Fantom\", leave=False, dynamic_ncols=True):\n",
    "        path = f\"preprocessed/fantom/window_size/{window}\"\n",
    "        enhancer_path = f\"{path}/enhancers_{center_enhancers}.bed\"\n",
    "        promoter_path = f\"{path}/promoters.bed\"\n",
    "        if os.path.exists(enhancer_path):\n",
    "            continue\n",
    "        enhancers, promoters = fantom(\n",
    "            common_cell_lines+fantom_cell_lines, window, center_enhancers=center_enhancers)\n",
    "        os.makedirs(path, exist_ok=True)\n",
    "        enhancers.to_csv(enhancer_path, index=None, sep=\"\\t\")\n",
    "        enhancers.to_csv(promoter_path, index=None, sep=\"\\t\")\n",
    "    fantom_preprocessed.append({\n",
    "        \"Nucleotides window\": window,\n",
    "        \"Genome\":\"hg19\",\n",
    "        \"Region-centered enhancers\": url_pattern.format(url=enhancer_path),\n",
    "        \"Peak-centered enhancers\": url_pattern.format(url=enhancer_path),\n",
    "        \"Promoters\": url_pattern.format(url=promoter_path)\n",
    "    })\n",
    "    new_roadmap = {}\n",
    "    for state in tqdm(states, desc=\"Roadmap\", leave=False, dynamic_ncols=True):\n",
    "        path = f\"preprocessed/roadmap/window_size/{window}/state/{state}\"\n",
    "        enhancer_path = f\"{path}/enhancers.bed\"\n",
    "        promoter_path = f\"{path}/promoters.bed\"\n",
    "        new_roadmap.update({\n",
    "            \"Nucleotides window\": window,\n",
    "            \"Genome\":\"hg19\",\n",
    "            f\"{state}-states model enhancers\": url_pattern.format(url=enhancer_path),\n",
    "            f\"{state}-states model promoters\": url_pattern.format(url=promoter_path)\n",
    "        })\n",
    "        if os.path.exists(path):\n",
    "            continue\n",
    "        enhancers, promoters = roadmap(common_cell_lines+roadmap_cell_lines, window, states=state)\n",
    "        os.makedirs(path, exist_ok=True)\n",
    "        enhancers.to_csv(enhancer_path, index=None, sep=\"\\t\")\n",
    "        enhancers.to_csv(promoter_path, index=None, sep=\"\\t\")\n",
    "    roadmap_preprocessed.append(new_roadmap)\n",
    "df = pd.DataFrame(roadmap_preprocessed)[[\n",
    "    \"Nucleotides window\",\n",
    "    \"Genome\",\n",
    "    \"15-states model enhancers\",\n",
    "    \"15-states model promoters\",\n",
    "    \"18-states model enhancers\",\n",
    "    \"18-states model promoters\",\n",
    "]]\n",
    "with open(\"roadmap.rst\", \"w\") as f:\n",
    "    f.write(tabulate(df.values, headers=df.columns, tablefmt=\"grid\"))\n",
    "\n",
    "df = pd.DataFrame(fantom_preprocessed)[[\n",
    "    \"Nucleotides window\",\n",
    "    \"Genome\",\n",
    "    \"Region-centered enhancers\",\n",
    "    \"Peak-centered enhancers\",\n",
    "    \"Promoters\"\n",
    "]]\n",
    "with open(\"fantom.rst\", \"w\") as f:\n",
    "    f.write(tabulate(df.values, headers=df.columns, tablefmt=\"grid\"))"
   ]
  }
 ],
 "metadata": {
  "kernelspec": {
   "display_name": "Python 3",
   "language": "python",
   "name": "python3"
  },
  "language_info": {
   "codemirror_mode": {
    "name": "ipython",
    "version": 3
   },
   "file_extension": ".py",
   "mimetype": "text/x-python",
   "name": "python",
   "nbconvert_exporter": "python",
   "pygments_lexer": "ipython3",
   "version": "3.7.4"
  }
 },
 "nbformat": 4,
 "nbformat_minor": 2
}
