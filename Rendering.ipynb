{
 "cells": [
  {
   "cell_type": "code",
   "execution_count": 1,
   "metadata": {},
   "outputs": [],
   "source": [
    "from crr_labels import fantom, roadmap, roadmap_available_cell_lines, fantom_available_cell_lines\n",
    "import os\n",
    "from tqdm.auto import tqdm\n",
    "import pandas as pd\n",
    "from tabulate import tabulate"
   ]
  },
  {
   "cell_type": "code",
   "execution_count": 2,
   "metadata": {},
   "outputs": [],
   "source": [
    "common_cell_lines = [\n",
    "    \"GM12878\", \"HelaS3\", \"HepG2\", \"K562\", \"A549\"\n",
    "]\n",
    "fantom_cell_lines = [\n",
    "    \"MCF7\", \"HEK293\", \"Caco2\", \"HL60\", \"PC3\"\n",
    "]\n",
    "roadmap_cell_lines = [\n",
    "    \"H1\", \"DND41\", \"H9\", \"HUES48\", \"HUES6\", \"HUES64\", \"IMR90\"\n",
    "]"
   ]
  },
  {
   "cell_type": "code",
   "execution_count": 8,
   "metadata": {},
   "outputs": [],
   "source": [
    "windows = (200, 300, 1000)\n",
    "states = (15, 18)\n",
    "centers = (\"peak\", \"center\")"
   ]
  },
  {
   "cell_type": "code",
   "execution_count": 9,
   "metadata": {},
   "outputs": [],
   "source": [
    "url_pattern = \"`Download <https://raw.githubusercontent.com/LucaCappelletti94/crr_labels/master/{url}>`__\""
   ]
  },
  {
   "cell_type": "code",
   "execution_count": 11,
   "metadata": {},
   "outputs": [
    {
     "data": {
      "application/vnd.jupyter.widget-view+json": {
       "model_id": "0ff29186f08445c3864ed713f5ef8e2e",
       "version_major": 2,
       "version_minor": 0
      },
      "text/plain": [
       "HBox(children=(IntProgress(value=0, layout=Layout(flex='2'), max=3), HTML(value='')), layout=Layout(display='i…"
      ]
     },
     "metadata": {},
     "output_type": "display_data"
    },
    {
     "data": {
      "application/vnd.jupyter.widget-view+json": {
       "model_id": "",
       "version_major": 2,
       "version_minor": 0
      },
      "text/plain": [
       "HBox(children=(IntProgress(value=0, layout=Layout(flex='2'), max=2), HTML(value='')), layout=Layout(display='i…"
      ]
     },
     "metadata": {},
     "output_type": "display_data"
    },
    {
     "data": {
      "application/vnd.jupyter.widget-view+json": {
       "model_id": "",
       "version_major": 2,
       "version_minor": 0
      },
      "text/plain": [
       "HBox(children=(IntProgress(value=0, layout=Layout(flex='2'), max=2), HTML(value='')), layout=Layout(display='i…"
      ]
     },
     "metadata": {},
     "output_type": "display_data"
    },
    {
     "data": {
      "application/vnd.jupyter.widget-view+json": {
       "model_id": "",
       "version_major": 2,
       "version_minor": 0
      },
      "text/plain": [
       "HBox(children=(IntProgress(value=0, layout=Layout(flex='2'), max=2), HTML(value='')), layout=Layout(display='i…"
      ]
     },
     "metadata": {},
     "output_type": "display_data"
    },
    {
     "data": {
      "application/vnd.jupyter.widget-view+json": {
       "model_id": "",
       "version_major": 2,
       "version_minor": 0
      },
      "text/plain": [
       "HBox(children=(IntProgress(value=0, layout=Layout(flex='2'), max=2), HTML(value='')), layout=Layout(display='i…"
      ]
     },
     "metadata": {},
     "output_type": "display_data"
    },
    {
     "data": {
      "application/vnd.jupyter.widget-view+json": {
       "model_id": "",
       "version_major": 2,
       "version_minor": 0
      },
      "text/plain": [
       "HBox(children=(IntProgress(value=0, layout=Layout(flex='2'), max=2), HTML(value='')), layout=Layout(display='i…"
      ]
     },
     "metadata": {},
     "output_type": "display_data"
    },
    {
     "data": {
      "application/vnd.jupyter.widget-view+json": {
       "model_id": "",
       "version_major": 2,
       "version_minor": 0
      },
      "text/plain": [
       "HBox(children=(IntProgress(value=0, layout=Layout(flex='2'), max=2), HTML(value='')), layout=Layout(display='i…"
      ]
     },
     "metadata": {},
     "output_type": "display_data"
    }
   ],
   "source": [
    "fantom_preprocessed = []\n",
    "roadmap_preprocessed = []\n",
    "for window in tqdm(windows, dynamic_ncols=True):\n",
    "    for center_enhancers in tqdm(centers, leave=False, dynamic_ncols=True):\n",
    "        path = f\"preprocessed/fantom/window_size/{window}\"\n",
    "        enhancer_path = f\"{path}/enhancers_{center_enhancers}.csv\"\n",
    "        promoter_path = f\"{path}/promoters.csv\"\n",
    "        if os.path.exists(enhancer_path):\n",
    "            continue\n",
    "        enhancers, promoters = fantom(\n",
    "            common_cell_lines+fantom_cell_lines, window, center_enhancers=center_enhancers)\n",
    "        os.makedirs(path, exist_ok=True)\n",
    "        enhancers.to_csv(enhancer_path, index=None)\n",
    "        enhancers.to_csv(promoter_path, index=None)\n",
    "    fantom_preprocessed.append({\n",
    "        \"Nucleotides window\": window,\n",
    "        \"Genome\":\"hg19\",\n",
    "        \"Region-centered enhancers\": url_pattern.format(url=enhancer_path),\n",
    "        \"Peak-centered enhancers\": url_pattern.format(url=enhancer_path),\n",
    "        \"Promoters\": url_pattern.format(url=promoter_path)\n",
    "    })\n",
    "    new_roadmap = {}\n",
    "    for state in tqdm(states, leave=False, dynamic_ncols=True):\n",
    "        path = f\"preprocessed/roadmap/window_size/{window}/model/{model}\"\n",
    "        enhancer_path = f\"{path}/enhancers.csv\"\n",
    "        promoter_path = f\"{path}/promoters.csv\"\n",
    "        new_roadmap.update({\n",
    "            \"Nucleotides window\": window,\n",
    "            \"Genome\":\"hg19\",\n",
    "            f\"{state}-states model enhancers\": url_pattern.format(url=enhancer_path),\n",
    "            f\"{state}-states model promoters\": url_pattern.format(url=promoter_path)\n",
    "        })\n",
    "        if os.path.exists(path):\n",
    "            continue\n",
    "        enhancers, promoters = roadmap(common_cell_lines+roadmap_cell_lines, window, states=state)\n",
    "        os.makedirs(path, exist_ok=True)\n",
    "        enhancers.to_csv(enhancer_path, index=None)\n",
    "        enhancers.to_csv(promoter_path, index=None)\n",
    "    roadmap_preprocessed.append(new_roadmap)\n",
    "df = pd.DataFrame(roadmap_preprocessed)[[\n",
    "    \"Nucleotides window\",\n",
    "    \"Genome\",\n",
    "    \"15-states model enhancers\",\n",
    "    \"15-states model promoters\",\n",
    "    \"18-states model enhancers\",\n",
    "    \"18-states model promoters\",\n",
    "]]\n",
    "with open(\"roadmap.rst\", \"w\") as f:\n",
    "    f.write(tabulate(df.values, headers=df.columns, tablefmt=\"grid\"))\n",
    "\n",
    "df = pd.DataFrame(fantom_preprocessed)[[\n",
    "    \"Nucleotides window\",\n",
    "    \"Genome\",\n",
    "    \"Region-centered enhancers\",\n",
    "    \"Peak-centered enhancers\",\n",
    "    \"Promoters\"\n",
    "]]\n",
    "with open(\"fantom.rst\", \"w\") as f:\n",
    "    f.write(tabulate(df.values, headers=df.columns, tablefmt=\"grid\"))"
   ]
  },
  {
   "cell_type": "code",
   "execution_count": null,
   "metadata": {},
   "outputs": [],
   "source": []
  }
 ],
 "metadata": {
  "kernelspec": {
   "display_name": "Python 3",
   "language": "python",
   "name": "python3"
  },
  "language_info": {
   "codemirror_mode": {
    "name": "ipython",
    "version": 3
   },
   "file_extension": ".py",
   "mimetype": "text/x-python",
   "name": "python",
   "nbconvert_exporter": "python",
   "pygments_lexer": "ipython3",
   "version": "3.7.3"
  }
 },
 "nbformat": 4,
 "nbformat_minor": 2
}
