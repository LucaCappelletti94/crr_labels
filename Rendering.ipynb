{
 "cells": [
  {
   "cell_type": "code",
   "execution_count": 1,
   "metadata": {},
   "outputs": [],
   "source": [
    "from crr_labels import fantom, roadmap, roadmap_available_cell_lines, fantom_available_cell_lines\n",
    "import os\n",
    "from tqdm.auto import tqdm\n",
    "import pandas as pd\n",
    "from tabulate import tabulate"
   ]
  },
  {
   "cell_type": "code",
   "execution_count": 2,
   "metadata": {},
   "outputs": [],
   "source": [
    "common_cell_lines = [\n",
    "    \"GM12878\", \"HelaS3\", \"HepG2\", \"K562\", \"A549\", \"H1\", \"H9\"\n",
    "]\n",
    "fantom_cell_lines = [\n",
    "    \"MCF7\", \"HEK293\", \"Caco2\", \"HL60\", \"PC3\", \"JURKAT\"\n",
    "]\n",
    "roadmap_cell_lines = [\n",
    "    \"DND41\", \"HUES48\", \"HUES6\", \"HUES64\", \"IMR90\"\n",
    "]"
   ]
  },
  {
   "cell_type": "code",
   "execution_count": 3,
   "metadata": {},
   "outputs": [],
   "source": [
    "windows = (200, 1000)\n",
    "states = (15, 18)\n",
    "centers = (\"peak\", \"center\")"
   ]
  },
  {
   "cell_type": "code",
   "execution_count": 4,
   "metadata": {},
   "outputs": [],
   "source": [
    "url_pattern = \"`Download <https://raw.githubusercontent.com/LucaCappelletti94/crr_labels/master/{url}>`__\""
   ]
  },
  {
   "cell_type": "code",
   "execution_count": null,
   "metadata": {},
   "outputs": [
    {
     "data": {
      "application/vnd.jupyter.widget-view+json": {
       "model_id": "54c7758e759c4a31b93187820a3af476",
       "version_major": 2,
       "version_minor": 0
      },
      "text/plain": [
       "HBox(children=(IntProgress(value=0, description='Window', layout=Layout(flex='2'), max=2, style=ProgressStyle(…"
      ]
     },
     "metadata": {},
     "output_type": "display_data"
    },
    {
     "data": {
      "application/vnd.jupyter.widget-view+json": {
       "model_id": "",
       "version_major": 2,
       "version_minor": 0
      },
      "text/plain": [
       "HBox(children=(IntProgress(value=0, description='Fantom', layout=Layout(flex='2'), max=2, style=ProgressStyle(…"
      ]
     },
     "metadata": {},
     "output_type": "display_data"
    },
    {
     "data": {
      "application/vnd.jupyter.widget-view+json": {
       "model_id": "",
       "version_major": 2,
       "version_minor": 0
      },
      "text/plain": [
       "HBox(children=(IntProgress(value=0, description='Roadmap', layout=Layout(flex='2'), max=2, style=ProgressStyle…"
      ]
     },
     "metadata": {},
     "output_type": "display_data"
    },
    {
     "data": {
      "application/vnd.jupyter.widget-view+json": {
       "model_id": "",
       "version_major": 2,
       "version_minor": 0
      },
      "text/plain": [
       "HBox(children=(IntProgress(value=0, description='Downloading to roadmap_data/15/H1.bed.gz', layout=Layout(flex…"
      ]
     },
     "metadata": {},
     "output_type": "display_data"
    },
    {
     "data": {
      "application/vnd.jupyter.widget-view+json": {
       "model_id": "",
       "version_major": 2,
       "version_minor": 0
      },
      "text/plain": [
       "HBox(children=(IntProgress(value=0, description='Downloading to roadmap_data/15/H9.bed.gz', layout=Layout(flex…"
      ]
     },
     "metadata": {},
     "output_type": "display_data"
    },
    {
     "data": {
      "application/vnd.jupyter.widget-view+json": {
       "model_id": "",
       "version_major": 2,
       "version_minor": 0
      },
      "text/plain": [
       "HBox(children=(IntProgress(value=0, description='Downloading to roadmap_data/15/HUES48.bed.gz', layout=Layout(…"
      ]
     },
     "metadata": {},
     "output_type": "display_data"
    },
    {
     "data": {
      "application/vnd.jupyter.widget-view+json": {
       "model_id": "",
       "version_major": 2,
       "version_minor": 0
      },
      "text/plain": [
       "HBox(children=(IntProgress(value=0, description='Downloading to roadmap_data/15/HUES6.bed.gz', layout=Layout(f…"
      ]
     },
     "metadata": {},
     "output_type": "display_data"
    },
    {
     "data": {
      "application/vnd.jupyter.widget-view+json": {
       "model_id": "",
       "version_major": 2,
       "version_minor": 0
      },
      "text/plain": [
       "HBox(children=(IntProgress(value=0, description='Downloading to roadmap_data/15/HUES64.bed.gz', layout=Layout(…"
      ]
     },
     "metadata": {},
     "output_type": "display_data"
    },
    {
     "data": {
      "application/vnd.jupyter.widget-view+json": {
       "model_id": "",
       "version_major": 2,
       "version_minor": 0
      },
      "text/plain": [
       "HBox(children=(IntProgress(value=0, description='Downloading to roadmap_data/15/IMR90.bed.gz', layout=Layout(f…"
      ]
     },
     "metadata": {},
     "output_type": "display_data"
    },
    {
     "data": {
      "application/vnd.jupyter.widget-view+json": {
       "model_id": "",
       "version_major": 2,
       "version_minor": 0
      },
      "text/plain": [
       "HBox(children=(IntProgress(value=0, description='Downloading to roadmap_data/15/A549.bed.gz', layout=Layout(fl…"
      ]
     },
     "metadata": {},
     "output_type": "display_data"
    },
    {
     "data": {
      "application/vnd.jupyter.widget-view+json": {
       "model_id": "",
       "version_major": 2,
       "version_minor": 0
      },
      "text/plain": [
       "HBox(children=(IntProgress(value=0, description='Downloading to roadmap_data/15/DND41.bed.gz', layout=Layout(f…"
      ]
     },
     "metadata": {},
     "output_type": "display_data"
    },
    {
     "data": {
      "application/vnd.jupyter.widget-view+json": {
       "model_id": "",
       "version_major": 2,
       "version_minor": 0
      },
      "text/plain": [
       "HBox(children=(IntProgress(value=0, description='Downloading to roadmap_data/15/HEPG2.bed.gz', layout=Layout(f…"
      ]
     },
     "metadata": {},
     "output_type": "display_data"
    },
    {
     "data": {
      "application/vnd.jupyter.widget-view+json": {
       "model_id": "",
       "version_major": 2,
       "version_minor": 0
      },
      "text/plain": [
       "HBox(children=(IntProgress(value=0, description='Downloading to roadmap_data/15/K562.bed.gz', layout=Layout(fl…"
      ]
     },
     "metadata": {},
     "output_type": "display_data"
    },
    {
     "data": {
      "application/vnd.jupyter.widget-view+json": {
       "model_id": "",
       "version_major": 2,
       "version_minor": 0
      },
      "text/plain": [
       "HBox(children=(IntProgress(value=0, description='Downloading to roadmap_data/18/H1.bed.gz', layout=Layout(flex…"
      ]
     },
     "metadata": {},
     "output_type": "display_data"
    },
    {
     "data": {
      "application/vnd.jupyter.widget-view+json": {
       "model_id": "",
       "version_major": 2,
       "version_minor": 0
      },
      "text/plain": [
       "HBox(children=(IntProgress(value=0, description='Downloading to roadmap_data/18/H9.bed.gz', layout=Layout(flex…"
      ]
     },
     "metadata": {},
     "output_type": "display_data"
    },
    {
     "data": {
      "application/vnd.jupyter.widget-view+json": {
       "model_id": "",
       "version_major": 2,
       "version_minor": 0
      },
      "text/plain": [
       "HBox(children=(IntProgress(value=0, description='Downloading to roadmap_data/18/HUES48.bed.gz', layout=Layout(…"
      ]
     },
     "metadata": {},
     "output_type": "display_data"
    },
    {
     "data": {
      "application/vnd.jupyter.widget-view+json": {
       "model_id": "",
       "version_major": 2,
       "version_minor": 0
      },
      "text/plain": [
       "HBox(children=(IntProgress(value=0, description='Downloading to roadmap_data/18/HUES6.bed.gz', layout=Layout(f…"
      ]
     },
     "metadata": {},
     "output_type": "display_data"
    },
    {
     "data": {
      "application/vnd.jupyter.widget-view+json": {
       "model_id": "",
       "version_major": 2,
       "version_minor": 0
      },
      "text/plain": [
       "HBox(children=(IntProgress(value=0, description='Downloading to roadmap_data/18/HUES64.bed.gz', layout=Layout(…"
      ]
     },
     "metadata": {},
     "output_type": "display_data"
    },
    {
     "data": {
      "application/vnd.jupyter.widget-view+json": {
       "model_id": "",
       "version_major": 2,
       "version_minor": 0
      },
      "text/plain": [
       "HBox(children=(IntProgress(value=0, description='Downloading to roadmap_data/18/IMR90.bed.gz', layout=Layout(f…"
      ]
     },
     "metadata": {},
     "output_type": "display_data"
    },
    {
     "data": {
      "application/vnd.jupyter.widget-view+json": {
       "model_id": "",
       "version_major": 2,
       "version_minor": 0
      },
      "text/plain": [
       "HBox(children=(IntProgress(value=0, description='Downloading to roadmap_data/18/A549.bed.gz', layout=Layout(fl…"
      ]
     },
     "metadata": {},
     "output_type": "display_data"
    },
    {
     "data": {
      "application/vnd.jupyter.widget-view+json": {
       "model_id": "",
       "version_major": 2,
       "version_minor": 0
      },
      "text/plain": [
       "HBox(children=(IntProgress(value=0, description='Downloading to roadmap_data/18/DND41.bed.gz', layout=Layout(f…"
      ]
     },
     "metadata": {},
     "output_type": "display_data"
    },
    {
     "data": {
      "application/vnd.jupyter.widget-view+json": {
       "model_id": "",
       "version_major": 2,
       "version_minor": 0
      },
      "text/plain": [
       "HBox(children=(IntProgress(value=0, description='Downloading to roadmap_data/18/HEPG2.bed.gz', layout=Layout(f…"
      ]
     },
     "metadata": {},
     "output_type": "display_data"
    },
    {
     "data": {
      "application/vnd.jupyter.widget-view+json": {
       "model_id": "",
       "version_major": 2,
       "version_minor": 0
      },
      "text/plain": [
       "HBox(children=(IntProgress(value=0, description='Downloading to roadmap_data/18/K562.bed.gz', layout=Layout(fl…"
      ]
     },
     "metadata": {},
     "output_type": "display_data"
    },
    {
     "data": {
      "application/vnd.jupyter.widget-view+json": {
       "model_id": "",
       "version_major": 2,
       "version_minor": 0
      },
      "text/plain": [
       "HBox(children=(IntProgress(value=0, description='Fantom', layout=Layout(flex='2'), max=2, style=ProgressStyle(…"
      ]
     },
     "metadata": {},
     "output_type": "display_data"
    },
    {
     "data": {
      "application/vnd.jupyter.widget-view+json": {
       "model_id": "bb6978cdb0cc427f9276e7a1016f0721",
       "version_major": 2,
       "version_minor": 0
      },
      "text/plain": [
       "HBox(children=(IntProgress(value=0, description='Roadmap', layout=Layout(flex='2'), max=2, style=ProgressStyle…"
      ]
     },
     "metadata": {},
     "output_type": "display_data"
    }
   ],
   "source": [
    "fantom_preprocessed = []\n",
    "roadmap_preprocessed = []\n",
    "for window in tqdm(windows,  desc=\"Window\", dynamic_ncols=True):\n",
    "    for center_enhancers in tqdm(centers, desc=\"Fantom\", leave=False, dynamic_ncols=True):\n",
    "        path = f\"preprocessed/fantom/window_size/{window}\"\n",
    "        enhancer_path = f\"{path}/enhancers_{center_enhancers}.bed\"\n",
    "        promoter_path = f\"{path}/promoters.bed\"\n",
    "        if os.path.exists(enhancer_path):\n",
    "            continue\n",
    "        enhancers, promoters = fantom(\n",
    "            common_cell_lines+fantom_cell_lines, window, center_enhancers=center_enhancers)\n",
    "        os.makedirs(path, exist_ok=True)\n",
    "        enhancers.to_csv(enhancer_path, index=None, sep=\"\\t\")\n",
    "        enhancers.to_csv(promoter_path, index=None, sep=\"\\t\")\n",
    "    fantom_preprocessed.append({\n",
    "        \"Nucleotides window\": window,\n",
    "        \"Genome\":\"hg19\",\n",
    "        \"Region-centered enhancers\": url_pattern.format(url=enhancer_path),\n",
    "        \"Peak-centered enhancers\": url_pattern.format(url=enhancer_path),\n",
    "        \"Promoters\": url_pattern.format(url=promoter_path)\n",
    "    })\n",
    "    new_roadmap = {}\n",
    "    for state in tqdm(states, desc=\"Roadmap\", leave=False, dynamic_ncols=True):\n",
    "        path = f\"preprocessed/roadmap/window_size/{window}/state/{state}\"\n",
    "        enhancer_path = f\"{path}/enhancers.bed\"\n",
    "        promoter_path = f\"{path}/promoters.bed\"\n",
    "        new_roadmap.update({\n",
    "            \"Nucleotides window\": window,\n",
    "            \"Genome\":\"hg19\",\n",
    "            f\"{state}-states model enhancers\": url_pattern.format(url=enhancer_path),\n",
    "            f\"{state}-states model promoters\": url_pattern.format(url=promoter_path)\n",
    "        })\n",
    "        if os.path.exists(path):\n",
    "            continue\n",
    "        enhancers, promoters = roadmap(common_cell_lines+roadmap_cell_lines, window, states=state)\n",
    "        os.makedirs(path, exist_ok=True)\n",
    "        enhancers.to_csv(enhancer_path, index=None, sep=\"\\t\")\n",
    "        enhancers.to_csv(promoter_path, index=None, sep=\"\\t\")\n",
    "    roadmap_preprocessed.append(new_roadmap)\n",
    "df = pd.DataFrame(roadmap_preprocessed)[[\n",
    "    \"Nucleotides window\",\n",
    "    \"Genome\",\n",
    "    \"15-states model enhancers\",\n",
    "    \"15-states model promoters\",\n",
    "    \"18-states model enhancers\",\n",
    "    \"18-states model promoters\",\n",
    "]]\n",
    "with open(\"roadmap.rst\", \"w\") as f:\n",
    "    f.write(tabulate(df.values, headers=df.columns, tablefmt=\"grid\"))\n",
    "\n",
    "df = pd.DataFrame(fantom_preprocessed)[[\n",
    "    \"Nucleotides window\",\n",
    "    \"Genome\",\n",
    "    \"Region-centered enhancers\",\n",
    "    \"Peak-centered enhancers\",\n",
    "    \"Promoters\"\n",
    "]]\n",
    "with open(\"fantom.rst\", \"w\") as f:\n",
    "    f.write(tabulate(df.values, headers=df.columns, tablefmt=\"grid\"))"
   ]
  }
 ],
 "metadata": {
  "kernelspec": {
   "display_name": "Python 3",
   "language": "python",
   "name": "python3"
  },
  "language_info": {
   "codemirror_mode": {
    "name": "ipython",
    "version": 3
   },
   "file_extension": ".py",
   "mimetype": "text/x-python",
   "name": "python",
   "nbconvert_exporter": "python",
   "pygments_lexer": "ipython3",
   "version": "3.7.4"
  }
 },
 "nbformat": 4,
 "nbformat_minor": 2
}
