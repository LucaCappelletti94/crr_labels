{
 "cells": [
  {
   "cell_type": "code",
   "execution_count": 1,
   "metadata": {},
   "outputs": [],
   "source": [
    "from crr_labels import fantom, roadmap, roadmap_available_cell_lines, fantom_available_cell_lines\n",
    "import os\n",
    "from tqdm.auto import tqdm\n",
    "import pandas as pd\n",
    "from tabulate import tabulate"
   ]
  },
  {
   "cell_type": "code",
   "execution_count": 2,
   "metadata": {},
   "outputs": [],
   "source": [
    "common_cell_lines = [\n",
    "    \"GM12878\", \"HelaS3\", \"HepG2\", \"K562\", \"A549\", \"H1\", \"H9\"\n",
    "]\n",
    "fantom_cell_lines = [\n",
    "    \"MCF7\", \"HEK293\", \"Caco2\", \"HL60\", \"PC3\", \"JURKAT\"\n",
    "]\n",
    "roadmap_cell_lines = [\n",
    "    \"DND41\", \"HUES48\", \"HUES6\", \"HUES64\", \"IMR90\"\n",
    "]"
   ]
  },
  {
   "cell_type": "code",
   "execution_count": 3,
   "metadata": {},
   "outputs": [],
   "source": [
    "windows = (64, 128, 256, 512, 1024)\n",
    "states = (15, 18)\n",
    "centers = (\"peak\", \"center\")\n",
    "assemblies = (\"hg19\", \"hg38\")\n",
    "# We are not computing RoadMap right now because we are still choosing the states from the model to be used.\n",
    "compute_roadmap = False"
   ]
  },
  {
   "cell_type": "code",
   "execution_count": 4,
   "metadata": {},
   "outputs": [],
   "source": [
    "url_pattern = \"`Download <https://raw.githubusercontent.com/LucaCappelletti94/crr_labels/master/{url}>`__\""
   ]
  },
  {
   "cell_type": "code",
   "execution_count": 5,
   "metadata": {},
   "outputs": [
    {
     "data": {
      "application/vnd.jupyter.widget-view+json": {
       "model_id": "1b8b7df5eea5402c9d48c9e66628fa11",
       "version_major": 2,
       "version_minor": 0
      },
      "text/plain": [
       "HBox(children=(FloatProgress(value=0.0, description='Assembly', max=2.0, style=ProgressStyle(description_width…"
      ]
     },
     "metadata": {},
     "output_type": "display_data"
    },
    {
     "data": {
      "application/vnd.jupyter.widget-view+json": {
       "model_id": "08727107003b4fceac03678dd4bf7ce2",
       "version_major": 2,
       "version_minor": 0
      },
      "text/plain": [
       "HBox(children=(FloatProgress(value=0.0, description='Window', layout=Layout(flex='2'), max=5.0, style=Progress…"
      ]
     },
     "metadata": {},
     "output_type": "display_data"
    },
    {
     "data": {
      "application/vnd.jupyter.widget-view+json": {
       "model_id": "",
       "version_major": 2,
       "version_minor": 0
      },
      "text/plain": [
       "HBox(children=(FloatProgress(value=0.0, description='Fantom', layout=Layout(flex='2'), max=2.0, style=Progress…"
      ]
     },
     "metadata": {},
     "output_type": "display_data"
    },
    {
     "data": {
      "application/vnd.jupyter.widget-view+json": {
       "model_id": "",
       "version_major": 2,
       "version_minor": 0
      },
      "text/plain": [
       "HBox(children=(FloatProgress(value=0.0, description='Fantom', layout=Layout(flex='2'), max=2.0, style=Progress…"
      ]
     },
     "metadata": {},
     "output_type": "display_data"
    },
    {
     "data": {
      "application/vnd.jupyter.widget-view+json": {
       "model_id": "",
       "version_major": 2,
       "version_minor": 0
      },
      "text/plain": [
       "HBox(children=(FloatProgress(value=0.0, description='Fantom', layout=Layout(flex='2'), max=2.0, style=Progress…"
      ]
     },
     "metadata": {},
     "output_type": "display_data"
    },
    {
     "data": {
      "application/vnd.jupyter.widget-view+json": {
       "model_id": "",
       "version_major": 2,
       "version_minor": 0
      },
      "text/plain": [
       "HBox(children=(FloatProgress(value=0.0, description='Fantom', layout=Layout(flex='2'), max=2.0, style=Progress…"
      ]
     },
     "metadata": {},
     "output_type": "display_data"
    },
    {
     "data": {
      "application/vnd.jupyter.widget-view+json": {
       "model_id": "",
       "version_major": 2,
       "version_minor": 0
      },
      "text/plain": [
       "HBox(children=(FloatProgress(value=0.0, description='Fantom', layout=Layout(flex='2'), max=2.0, style=Progress…"
      ]
     },
     "metadata": {},
     "output_type": "display_data"
    },
    {
     "name": "stdout",
     "output_type": "stream",
     "text": [
      "\n"
     ]
    },
    {
     "data": {
      "application/vnd.jupyter.widget-view+json": {
       "model_id": "1e0357b6301647a8be8a181ff67f2980",
       "version_major": 2,
       "version_minor": 0
      },
      "text/plain": [
       "HBox(children=(FloatProgress(value=0.0, description='Window', layout=Layout(flex='2'), max=5.0, style=Progress…"
      ]
     },
     "metadata": {},
     "output_type": "display_data"
    },
    {
     "data": {
      "application/vnd.jupyter.widget-view+json": {
       "model_id": "",
       "version_major": 2,
       "version_minor": 0
      },
      "text/plain": [
       "HBox(children=(FloatProgress(value=0.0, description='Fantom', layout=Layout(flex='2'), max=2.0, style=Progress…"
      ]
     },
     "metadata": {},
     "output_type": "display_data"
    },
    {
     "data": {
      "application/vnd.jupyter.widget-view+json": {
       "model_id": "",
       "version_major": 2,
       "version_minor": 0
      },
      "text/plain": [
       "HBox(children=(FloatProgress(value=0.0, description='Fantom', layout=Layout(flex='2'), max=2.0, style=Progress…"
      ]
     },
     "metadata": {},
     "output_type": "display_data"
    },
    {
     "data": {
      "application/vnd.jupyter.widget-view+json": {
       "model_id": "",
       "version_major": 2,
       "version_minor": 0
      },
      "text/plain": [
       "HBox(children=(FloatProgress(value=0.0, description='Fantom', layout=Layout(flex='2'), max=2.0, style=Progress…"
      ]
     },
     "metadata": {},
     "output_type": "display_data"
    },
    {
     "data": {
      "application/vnd.jupyter.widget-view+json": {
       "model_id": "",
       "version_major": 2,
       "version_minor": 0
      },
      "text/plain": [
       "HBox(children=(FloatProgress(value=0.0, description='Fantom', layout=Layout(flex='2'), max=2.0, style=Progress…"
      ]
     },
     "metadata": {},
     "output_type": "display_data"
    },
    {
     "data": {
      "application/vnd.jupyter.widget-view+json": {
       "model_id": "",
       "version_major": 2,
       "version_minor": 0
      },
      "text/plain": [
       "HBox(children=(FloatProgress(value=0.0, description='Fantom', layout=Layout(flex='2'), max=2.0, style=Progress…"
      ]
     },
     "metadata": {},
     "output_type": "display_data"
    },
    {
     "name": "stdout",
     "output_type": "stream",
     "text": [
      "\n",
      "\n"
     ]
    }
   ],
   "source": [
    "fantom_preprocessed = []\n",
    "roadmap_preprocessed = []\n",
    "for assembly in tqdm(assemblies, desc=\"Assembly\"):\n",
    "    for window in tqdm(windows,  desc=\"Window\", dynamic_ncols=True):\n",
    "        for center_enhancers in tqdm(centers, desc=\"Fantom\", leave=False, dynamic_ncols=True):\n",
    "            path = f\"preprocessed/fantom/window_size_{window}/{assembly}\"\n",
    "            enhancer_path = f\"{path}/enhancers_{center_enhancers}.bed.xz\"\n",
    "            promoter_path = f\"{path}/promoters.bed.xz\"\n",
    "            if os.path.exists(enhancer_path):\n",
    "                continue\n",
    "            enhancers, promoters = fantom(\n",
    "                common_cell_lines+fantom_cell_lines,\n",
    "                window,\n",
    "                \n",
    "                center_enhancers=center_enhancers\n",
    "            )\n",
    "            os.makedirs(path, exist_ok=True)\n",
    "            enhancers.to_csv(enhancer_path, index=None, sep=\"\\t\")\n",
    "            enhancers.to_csv(promoter_path, index=None, sep=\"\\t\")\n",
    "        fantom_preprocessed.append({\n",
    "            \"Nucleotides window\": window,\n",
    "            \"Genome\":assembly,\n",
    "            \"Region-centered enhancers\": url_pattern.format(url=enhancer_path),\n",
    "            \"Peak-centered enhancers\": url_pattern.format(url=enhancer_path),\n",
    "            \"Promoters\": url_pattern.format(url=promoter_path)\n",
    "        })\n",
    "        if compute_roadmap:\n",
    "            new_roadmap = {}\n",
    "            for state in tqdm(states, desc=\"Roadmap\", leave=False, dynamic_ncols=True):\n",
    "                path = f\"preprocessed/roadmap/window_size_{window}/state_{state}/{assembly}\"\n",
    "                enhancer_path = f\"{path}/enhancers.bed.xz\"\n",
    "                promoter_path = f\"{path}/promoters.bed.xz\"\n",
    "                new_roadmap.update({\n",
    "                    \"Nucleotides window\": window,\n",
    "                    \"Genome\":assembly,\n",
    "                    f\"{state}-states model enhancers\": url_pattern.format(url=enhancer_path),\n",
    "                    f\"{state}-states model promoters\": url_pattern.format(url=promoter_path)\n",
    "                })\n",
    "                if os.path.exists(path):\n",
    "                    continue\n",
    "                enhancers, promoters = roadmap(common_cell_lines+roadmap_cell_lines, window, states=state)\n",
    "                os.makedirs(path, exist_ok=True)\n",
    "                enhancers.to_csv(enhancer_path, index=None, sep=\"\\t\")\n",
    "                enhancers.to_csv(promoter_path, index=None, sep=\"\\t\")\n",
    "            roadmap_preprocessed.append(new_roadmap)\n",
    "            \n",
    "if compute_roadmap:\n",
    "    df = pd.DataFrame(roadmap_preprocessed)[[\n",
    "        \"Nucleotides window\",\n",
    "        \"Genome\",\n",
    "        \"15-states model enhancers\",\n",
    "        \"15-states model promoters\",\n",
    "        \"18-states model enhancers\",\n",
    "        \"18-states model promoters\",\n",
    "    ]]\n",
    "    with open(\"roadmap.rst\", \"w\") as f:\n",
    "        f.write(tabulate(df.values, headers=df.columns, tablefmt=\"grid\"))\n",
    "\n",
    "df = pd.DataFrame(fantom_preprocessed)[[\n",
    "    \"Nucleotides window\",\n",
    "    \"Genome\",\n",
    "    \"Region-centered enhancers\",\n",
    "    \"Peak-centered enhancers\",\n",
    "    \"Promoters\"\n",
    "]]\n",
    "with open(\"fantom.rst\", \"w\") as f:\n",
    "    f.write(tabulate(df.values, headers=df.columns, tablefmt=\"grid\"))"
   ]
  }
 ],
 "metadata": {
  "kernelspec": {
   "display_name": "Python 3",
   "language": "python",
   "name": "python3"
  },
  "language_info": {
   "codemirror_mode": {
    "name": "ipython",
    "version": 3
   },
   "file_extension": ".py",
   "mimetype": "text/x-python",
   "name": "python",
   "nbconvert_exporter": "python",
   "pygments_lexer": "ipython3",
   "version": "3.7.6"
  }
 },
 "nbformat": 4,
 "nbformat_minor": 2
}
