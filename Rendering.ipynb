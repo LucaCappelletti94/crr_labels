{
 "cells": [
  {
   "cell_type": "code",
   "execution_count": 6,
   "metadata": {},
   "outputs": [],
   "source": [
    "from crr_labels import fantom, roadmap, roadmap_available_cell_lines, fantom_available_cell_lines\n",
    "import os\n",
    "from tqdm.auto import tqdm\n",
    "import pandas as pd\n",
    "from tabulate import tabulate"
   ]
  },
  {
   "cell_type": "code",
   "execution_count": 7,
   "metadata": {},
   "outputs": [],
   "source": [
    "common_cell_lines = [\n",
    "    \"GM12878\", \"HelaS3\", \"HepG2\", \"K562\", \"A549\"\n",
    "]\n",
    "fantom_cell_lines = [\n",
    "    \"MCF7\", \"HEK293\", \"Caco2\", \"HL60\", \"PC3\"\n",
    "]\n",
    "roadmap_cell_lines = [\n",
    "    \"H1\", \"DND41\", \"H9\", \"HUES48\", \"HUES6\", \"HUES64\", \"IMR90\", \"4STAR\"\n",
    "]"
   ]
  },
  {
   "cell_type": "code",
   "execution_count": 8,
   "metadata": {},
   "outputs": [],
   "source": [
    "windows = (100, 200, 300, 500, 1000)\n",
    "models = (15, 18)\n",
    "centers = (\"peak\", \"center\")"
   ]
  },
  {
   "cell_type": "code",
   "execution_count": 9,
   "metadata": {},
   "outputs": [],
   "source": [
    "url_pattern = \"`Download <https://raw.githubusercontent.com/LucaCappelletti94/crr_labels/master/{url}>`__\""
   ]
  },
  {
   "cell_type": "code",
   "execution_count": 10,
   "metadata": {},
   "outputs": [
    {
     "data": {
      "application/vnd.jupyter.widget-view+json": {
       "model_id": "c5c3b935a18945a99ba9e0faf9361626",
       "version_major": 2,
       "version_minor": 0
      },
      "text/plain": [
       "HBox(children=(IntProgress(value=0, max=5), HTML(value='')))"
      ]
     },
     "metadata": {},
     "output_type": "display_data"
    },
    {
     "data": {
      "application/vnd.jupyter.widget-view+json": {
       "model_id": "",
       "version_major": 2,
       "version_minor": 0
      },
      "text/plain": [
       "HBox(children=(IntProgress(value=0, max=2), HTML(value='')))"
      ]
     },
     "metadata": {},
     "output_type": "display_data"
    },
    {
     "name": "stderr",
     "output_type": "stream",
     "text": [
      "/usr/local/anaconda3/lib/python3.7/site-packages/pandas/core/generic.py:5096: SettingWithCopyWarning: \n",
      "A value is trying to be set on a copy of a slice from a DataFrame.\n",
      "Try using .loc[row_indexer,col_indexer] = value instead\n",
      "\n",
      "See the caveats in the documentation: http://pandas.pydata.org/pandas-docs/stable/indexing.html#indexing-view-versus-copy\n",
      "  self[name] = value\n"
     ]
    },
    {
     "data": {
      "application/vnd.jupyter.widget-view+json": {
       "model_id": "5026a281cb404fb7a84b4f4d8085f99e",
       "version_major": 2,
       "version_minor": 0
      },
      "text/plain": [
       "HBox(children=(IntProgress(value=0, max=2), HTML(value='')))"
      ]
     },
     "metadata": {},
     "output_type": "display_data"
    },
    {
     "ename": "ValueError",
     "evalue": "Given cell line IMR90 is not currently available.",
     "output_type": "error",
     "traceback": [
      "\u001b[0;31m---------------------------------------------------------------------------\u001b[0m",
      "\u001b[0;31mValueError\u001b[0m                                Traceback (most recent call last)",
      "\u001b[0;32m<ipython-input-10-ee7a7d06bdf3>\u001b[0m in \u001b[0;36m<module>\u001b[0;34m\u001b[0m\n\u001b[1;32m     33\u001b[0m         \u001b[0;32mif\u001b[0m \u001b[0mos\u001b[0m\u001b[0;34m.\u001b[0m\u001b[0mpath\u001b[0m\u001b[0;34m.\u001b[0m\u001b[0mexists\u001b[0m\u001b[0;34m(\u001b[0m\u001b[0mpath\u001b[0m\u001b[0;34m)\u001b[0m\u001b[0;34m:\u001b[0m\u001b[0;34m\u001b[0m\u001b[0;34m\u001b[0m\u001b[0m\n\u001b[1;32m     34\u001b[0m             \u001b[0;32mcontinue\u001b[0m\u001b[0;34m\u001b[0m\u001b[0;34m\u001b[0m\u001b[0m\n\u001b[0;32m---> 35\u001b[0;31m         \u001b[0menhancers\u001b[0m\u001b[0;34m,\u001b[0m \u001b[0mpromoters\u001b[0m \u001b[0;34m=\u001b[0m \u001b[0mroadmap\u001b[0m\u001b[0;34m(\u001b[0m\u001b[0mcommon_cell_lines\u001b[0m\u001b[0;34m+\u001b[0m\u001b[0mroadmap_cell_lines\u001b[0m\u001b[0;34m,\u001b[0m \u001b[0mwindow\u001b[0m\u001b[0;34m)\u001b[0m\u001b[0;34m\u001b[0m\u001b[0;34m\u001b[0m\u001b[0m\n\u001b[0m\u001b[1;32m     36\u001b[0m         \u001b[0mos\u001b[0m\u001b[0;34m.\u001b[0m\u001b[0mmakedirs\u001b[0m\u001b[0;34m(\u001b[0m\u001b[0mpath\u001b[0m\u001b[0;34m,\u001b[0m \u001b[0mexist_ok\u001b[0m\u001b[0;34m=\u001b[0m\u001b[0;32mTrue\u001b[0m\u001b[0;34m)\u001b[0m\u001b[0;34m\u001b[0m\u001b[0;34m\u001b[0m\u001b[0m\n\u001b[1;32m     37\u001b[0m         \u001b[0menhancers\u001b[0m\u001b[0;34m.\u001b[0m\u001b[0mto_csv\u001b[0m\u001b[0;34m(\u001b[0m\u001b[0menhancer_path\u001b[0m\u001b[0;34m,\u001b[0m \u001b[0mindex\u001b[0m\u001b[0;34m=\u001b[0m\u001b[0;32mNone\u001b[0m\u001b[0;34m)\u001b[0m\u001b[0;34m\u001b[0m\u001b[0;34m\u001b[0m\u001b[0m\n",
      "\u001b[0;32m~/github/crr_labels/crr_labels/roadmap.py\u001b[0m in \u001b[0;36mroadmap\u001b[0;34m(cell_lines, window_size, genome, states, enhancers_labels, promoters_labels, nrows)\u001b[0m\n\u001b[1;32m    164\u001b[0m     cell_lines_names = filter_cell_lines(\n\u001b[1;32m    165\u001b[0m         \u001b[0mcell_lines\u001b[0m\u001b[0;34m,\u001b[0m\u001b[0;34m\u001b[0m\u001b[0;34m\u001b[0m\u001b[0m\n\u001b[0;32m--> 166\u001b[0;31m         \u001b[0mgenome\u001b[0m\u001b[0;34m\u001b[0m\u001b[0;34m\u001b[0m\u001b[0m\n\u001b[0m\u001b[1;32m    167\u001b[0m     )\n\u001b[1;32m    168\u001b[0m \u001b[0;34m\u001b[0m\u001b[0m\n",
      "\u001b[0;32m~/github/crr_labels/crr_labels/roadmap.py\u001b[0m in \u001b[0;36mfilter_cell_lines\u001b[0;34m(cell_lines, genome)\u001b[0m\n\u001b[1;32m     55\u001b[0m     \u001b[0mReturn\u001b[0m \u001b[0mdataframe\u001b[0m \u001b[0;32mwith\u001b[0m \u001b[0mthe\u001b[0m \u001b[0mcell\u001b[0m \u001b[0mlines\u001b[0m \u001b[0mmapped\u001b[0m \u001b[0mto\u001b[0m \u001b[0mRoadmap\u001b[0m \u001b[0mname\u001b[0m\u001b[0;34m.\u001b[0m\u001b[0;34m\u001b[0m\u001b[0;34m\u001b[0m\u001b[0m\n\u001b[1;32m     56\u001b[0m     \"\"\"\n\u001b[0;32m---> 57\u001b[0;31m     \u001b[0;32mreturn\u001b[0m \u001b[0mfilter_required_cell_lines\u001b[0m\u001b[0;34m(\u001b[0m\u001b[0mcell_lines\u001b[0m\u001b[0;34m,\u001b[0m \u001b[0mroadmap_available_cell_lines\u001b[0m\u001b[0;34m(\u001b[0m\u001b[0mgenome\u001b[0m\u001b[0;34m)\u001b[0m\u001b[0;34m)\u001b[0m\u001b[0;34m\u001b[0m\u001b[0;34m\u001b[0m\u001b[0m\n\u001b[0m\u001b[1;32m     58\u001b[0m \u001b[0;34m\u001b[0m\u001b[0m\n\u001b[1;32m     59\u001b[0m \u001b[0;34m\u001b[0m\u001b[0m\n",
      "\u001b[0;32m~/github/crr_labels/crr_labels/utils/filter_required_cell_lines.py\u001b[0m in \u001b[0;36mfilter_required_cell_lines\u001b[0;34m(cell_lines, cell_lines_codes)\u001b[0m\n\u001b[1;32m     26\u001b[0m         \u001b[0;32mif\u001b[0m \u001b[0;32mnot\u001b[0m \u001b[0mfiltered_cell_lines\u001b[0m\u001b[0;34m.\u001b[0m\u001b[0mcell_line\u001b[0m\u001b[0;34m.\u001b[0m\u001b[0misin\u001b[0m\u001b[0;34m(\u001b[0m\u001b[0;34m[\u001b[0m\u001b[0mcell_line\u001b[0m\u001b[0;34m]\u001b[0m\u001b[0;34m)\u001b[0m\u001b[0;34m.\u001b[0m\u001b[0many\u001b[0m\u001b[0;34m(\u001b[0m\u001b[0;34m)\u001b[0m\u001b[0;34m:\u001b[0m\u001b[0;34m\u001b[0m\u001b[0;34m\u001b[0m\u001b[0m\n\u001b[1;32m     27\u001b[0m             raise ValueError(\"Given cell line {cell_line} is not currently available.\".format(\n\u001b[0;32m---> 28\u001b[0;31m                 \u001b[0mcell_line\u001b[0m\u001b[0;34m=\u001b[0m\u001b[0mcell_line\u001b[0m\u001b[0;34m\u001b[0m\u001b[0;34m\u001b[0m\u001b[0m\n\u001b[0m\u001b[1;32m     29\u001b[0m             ))\n\u001b[1;32m     30\u001b[0m     \u001b[0;32mreturn\u001b[0m \u001b[0mfiltered_cell_lines\u001b[0m\u001b[0;34m[\u001b[0m\u001b[0;34m[\u001b[0m\u001b[0;34m\"cell_line\"\u001b[0m\u001b[0;34m,\u001b[0m \u001b[0;34m\"code\"\u001b[0m\u001b[0;34m]\u001b[0m\u001b[0;34m]\u001b[0m\u001b[0;34m\u001b[0m\u001b[0;34m\u001b[0m\u001b[0m\n",
      "\u001b[0;31mValueError\u001b[0m: Given cell line IMR90 is not currently available."
     ]
    }
   ],
   "source": [
    "fantom_preprocessed = []\n",
    "roadmap_preprocessed = []\n",
    "for window in tqdm(windows):\n",
    "    for center_enhancers in tqdm(centers, leave=False):\n",
    "        path = f\"preprocessed/fantom/window_size/{window}\"\n",
    "        enhancer_path = f\"{path}/enhancers_{center_enhancers}.csv\"\n",
    "        promoter_path = f\"{path}/promoters.csv\"\n",
    "        if os.path.exists(enhancer_path):\n",
    "            continue\n",
    "        enhancers, promoters = fantom(\n",
    "            common_cell_lines+fantom_cell_lines, window, center_enhancers=center_enhancers)\n",
    "        os.makedirs(path, exist_ok=True)\n",
    "        enhancers.to_csv(enhancer_path, index=None)\n",
    "        enhancers.to_csv(promoter_path, index=None)\n",
    "    fantom_preprocessed.append({\n",
    "        \"Nucleotides window\": window,\n",
    "        \"Genome\":\"hg19\",\n",
    "        \"Region-centered enhancers\": url_pattern.format(url=enhancer_path),\n",
    "        \"Peak-centered enhancers\": url_pattern.format(url=enhancer_path),\n",
    "        \"Promoters\": url_pattern.format(url=promoter_path)\n",
    "    })\n",
    "    for model in tqdm(models, leave=False):\n",
    "        path = f\"preprocessed/roadmap/model/{model}/window_size/{window}\"\n",
    "        enhancer_path = f\"{path}/enhancers.csv\"\n",
    "        promoter_path = f\"{path}/promoters.csv\"\n",
    "        roadmap_preprocessed.append({\n",
    "            \"Nucleotides window\": window,\n",
    "            \"Genome\":\"hg19\",\n",
    "            \"Enhancers\": url_pattern.format(url=enhancer_path),\n",
    "            \"Promoters\": url_pattern.format(url=promoter_path),\n",
    "            \"Model states\": model\n",
    "        })\n",
    "        if os.path.exists(path):\n",
    "            continue\n",
    "        enhancers, promoters = roadmap(common_cell_lines+roadmap_cell_lines, window)\n",
    "        os.makedirs(path, exist_ok=True)\n",
    "        enhancers.to_csv(enhancer_path, index=None)\n",
    "        enhancers.to_csv(promoter_path, index=None)\n",
    "\n",
    "df = pd.DataFrame(roadmap_preprocessed)[[\n",
    "    \"Nucleotides window\",\n",
    "    \"Genome\",\n",
    "    \"Model states\",\n",
    "    \"Enhancers\",\n",
    "    \"Promoters\"\n",
    "]]\n",
    "with open(\"roadmap.txt\", \"w\") as f:\n",
    "    f.write(tabulate(df.values, headers=df.columns, tablefmt=\"grid\"))\n",
    "\n",
    "df = pd.DataFrame(fantom_preprocessed)[[\n",
    "    \"Nucleotides window\",\n",
    "    \"Genome\",\n",
    "    \"Region-centered enhancers\",\n",
    "    \"Peak-centered enhancers\",\n",
    "    \"Promoters\"\n",
    "]]\n",
    "with open(\"fantom.txt\", \"w\") as f:\n",
    "    f.write(tabulate(df.values, headers=df.columns, tablefmt=\"grid\"))"
   ]
  }
 ],
 "metadata": {
  "kernelspec": {
   "display_name": "Python 3",
   "language": "python",
   "name": "python3"
  },
  "language_info": {
   "codemirror_mode": {
    "name": "ipython",
    "version": 3
   },
   "file_extension": ".py",
   "mimetype": "text/x-python",
   "name": "python",
   "nbconvert_exporter": "python",
   "pygments_lexer": "ipython3",
   "version": "3.7.3"
  }
 },
 "nbformat": 4,
 "nbformat_minor": 2
}
